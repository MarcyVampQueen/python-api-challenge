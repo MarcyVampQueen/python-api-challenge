{
 "cells": [
  {
   "cell_type": "markdown",
   "metadata": {},
   "source": [
    "# VacationPy\n",
    "----\n",
    "\n",
    "#### Note\n",
    "* Keep an eye on your API usage. Use https://developers.google.com/maps/reporting/gmp-reporting as reference for how to monitor your usage and billing.\n",
    "\n",
    "* Instructions have been included for each segment. You do not have to follow them exactly, but they are included to help you think through the steps."
   ]
  },
  {
   "cell_type": "code",
   "execution_count": 39,
   "metadata": {},
   "outputs": [],
   "source": [
    "# Dependencies and Setup\n",
    "import matplotlib.pyplot as plt\n",
    "import pandas as pd\n",
    "import numpy as np\n",
    "import requests\n",
    "import gmaps\n",
    "import os\n",
    "from pprint import pprint\n",
    "\n",
    "# Import API key\n",
    "from api_keys import g_key\n",
    "gmaps.configure(api_key=g_key)"
   ]
  },
  {
   "cell_type": "markdown",
   "metadata": {},
   "source": [
    "### Store Part I results into DataFrame\n",
    "* Load the csv exported in Part I to a DataFrame"
   ]
  },
  {
   "cell_type": "code",
   "execution_count": 40,
   "metadata": {},
   "outputs": [
    {
     "data": {
      "text/html": [
       "<div>\n",
       "<style scoped>\n",
       "    .dataframe tbody tr th:only-of-type {\n",
       "        vertical-align: middle;\n",
       "    }\n",
       "\n",
       "    .dataframe tbody tr th {\n",
       "        vertical-align: top;\n",
       "    }\n",
       "\n",
       "    .dataframe thead th {\n",
       "        text-align: right;\n",
       "    }\n",
       "</style>\n",
       "<table border=\"1\" class=\"dataframe\">\n",
       "  <thead>\n",
       "    <tr style=\"text-align: right;\">\n",
       "      <th></th>\n",
       "      <th>City</th>\n",
       "      <th>Lat</th>\n",
       "      <th>Long</th>\n",
       "      <th>Max Temp</th>\n",
       "      <th>Humidity</th>\n",
       "      <th>Cloudiness</th>\n",
       "      <th>Wind Speed</th>\n",
       "      <th>Country</th>\n",
       "      <th>Date</th>\n",
       "    </tr>\n",
       "  </thead>\n",
       "  <tbody>\n",
       "    <tr>\n",
       "      <th>0</th>\n",
       "      <td>Nikolskoye</td>\n",
       "      <td>59.70</td>\n",
       "      <td>30.79</td>\n",
       "      <td>42.01</td>\n",
       "      <td>86</td>\n",
       "      <td>90</td>\n",
       "      <td>11.18</td>\n",
       "      <td>RU</td>\n",
       "      <td>1604348317</td>\n",
       "    </tr>\n",
       "    <tr>\n",
       "      <th>1</th>\n",
       "      <td>Mar del Plata</td>\n",
       "      <td>-38.00</td>\n",
       "      <td>-57.56</td>\n",
       "      <td>66.20</td>\n",
       "      <td>55</td>\n",
       "      <td>90</td>\n",
       "      <td>12.75</td>\n",
       "      <td>AR</td>\n",
       "      <td>1604348317</td>\n",
       "    </tr>\n",
       "    <tr>\n",
       "      <th>2</th>\n",
       "      <td>Severo-Kuril'sk</td>\n",
       "      <td>50.68</td>\n",
       "      <td>156.12</td>\n",
       "      <td>43.30</td>\n",
       "      <td>82</td>\n",
       "      <td>100</td>\n",
       "      <td>23.13</td>\n",
       "      <td>RU</td>\n",
       "      <td>1604348317</td>\n",
       "    </tr>\n",
       "    <tr>\n",
       "      <th>3</th>\n",
       "      <td>Sinnamary</td>\n",
       "      <td>5.38</td>\n",
       "      <td>-52.95</td>\n",
       "      <td>78.62</td>\n",
       "      <td>86</td>\n",
       "      <td>100</td>\n",
       "      <td>14.56</td>\n",
       "      <td>GF</td>\n",
       "      <td>1604348317</td>\n",
       "    </tr>\n",
       "    <tr>\n",
       "      <th>4</th>\n",
       "      <td>Busselton</td>\n",
       "      <td>-33.65</td>\n",
       "      <td>115.33</td>\n",
       "      <td>55.99</td>\n",
       "      <td>84</td>\n",
       "      <td>78</td>\n",
       "      <td>11.23</td>\n",
       "      <td>AU</td>\n",
       "      <td>1604348318</td>\n",
       "    </tr>\n",
       "  </tbody>\n",
       "</table>\n",
       "</div>"
      ],
      "text/plain": [
       "              City    Lat    Long  Max Temp  Humidity  Cloudiness  Wind Speed  \\\n",
       "0       Nikolskoye  59.70   30.79     42.01        86          90       11.18   \n",
       "1    Mar del Plata -38.00  -57.56     66.20        55          90       12.75   \n",
       "2  Severo-Kuril'sk  50.68  156.12     43.30        82         100       23.13   \n",
       "3        Sinnamary   5.38  -52.95     78.62        86         100       14.56   \n",
       "4        Busselton -33.65  115.33     55.99        84          78       11.23   \n",
       "\n",
       "  Country        Date  \n",
       "0      RU  1604348317  \n",
       "1      AR  1604348317  \n",
       "2      RU  1604348317  \n",
       "3      GF  1604348317  \n",
       "4      AU  1604348318  "
      ]
     },
     "execution_count": 40,
     "metadata": {},
     "output_type": "execute_result"
    }
   ],
   "source": [
    "weather = pd.read_csv(\"../WeatherPy/output_data/cities.csv\")\n",
    "weather.head()"
   ]
  },
  {
   "cell_type": "markdown",
   "metadata": {},
   "source": [
    "### Humidity Heatmap\n",
    "* Configure gmaps.\n",
    "* Use the Lat and Lng as locations and Humidity as the weight.\n",
    "* Add Heatmap layer to map."
   ]
  },
  {
   "cell_type": "code",
   "execution_count": 64,
   "metadata": {},
   "outputs": [
    {
     "data": {
      "application/vnd.jupyter.widget-view+json": {
       "model_id": "a20b38d3a3214dc8b1b3bc39bb7b4890",
       "version_major": 2,
       "version_minor": 0
      },
      "text/plain": [
       "Figure(layout=FigureLayout(border='1px solid black', height='550px', margin='0 auto 0 auto', padding='1px', wi…"
      ]
     },
     "metadata": {},
     "output_type": "display_data"
    }
   ],
   "source": [
    "figure_layout = {\n",
    "    'width': '600px',\n",
    "    'height': '550px',\n",
    "    'border': '1px solid black',\n",
    "    'padding': '1px',\n",
    "    'margin': '0 auto 0 auto'\n",
    "}\n",
    "fig = gmaps.figure(layout=figure_layout)\n",
    "lat_long = weather[['Lat','Long']]\n",
    "heat = gmaps.heatmap_layer(lat_long, weights=weather['Humidity'])\n",
    "fig.add_layer(heat)\n",
    "fig"
   ]
  },
  {
   "cell_type": "code",
   "execution_count": null,
   "metadata": {},
   "outputs": [],
   "source": []
  },
  {
   "cell_type": "markdown",
   "metadata": {},
   "source": [
    "### Create new DataFrame fitting weather criteria\n",
    "* Narrow down the cities to fit weather conditions.\n",
    "* Drop any rows will null values."
   ]
  },
  {
   "cell_type": "code",
   "execution_count": 65,
   "metadata": {},
   "outputs": [
    {
     "data": {
      "text/html": [
       "<div>\n",
       "<style scoped>\n",
       "    .dataframe tbody tr th:only-of-type {\n",
       "        vertical-align: middle;\n",
       "    }\n",
       "\n",
       "    .dataframe tbody tr th {\n",
       "        vertical-align: top;\n",
       "    }\n",
       "\n",
       "    .dataframe thead th {\n",
       "        text-align: right;\n",
       "    }\n",
       "</style>\n",
       "<table border=\"1\" class=\"dataframe\">\n",
       "  <thead>\n",
       "    <tr style=\"text-align: right;\">\n",
       "      <th></th>\n",
       "      <th>City</th>\n",
       "      <th>Lat</th>\n",
       "      <th>Long</th>\n",
       "      <th>Max Temp</th>\n",
       "      <th>Humidity</th>\n",
       "      <th>Cloudiness</th>\n",
       "      <th>Wind Speed</th>\n",
       "      <th>Country</th>\n",
       "      <th>Date</th>\n",
       "    </tr>\n",
       "  </thead>\n",
       "  <tbody>\n",
       "    <tr>\n",
       "      <th>27</th>\n",
       "      <td>Saint George</td>\n",
       "      <td>37.10</td>\n",
       "      <td>-113.58</td>\n",
       "      <td>68.0</td>\n",
       "      <td>20</td>\n",
       "      <td>1</td>\n",
       "      <td>4.70</td>\n",
       "      <td>US</td>\n",
       "      <td>1604348181</td>\n",
       "    </tr>\n",
       "    <tr>\n",
       "      <th>206</th>\n",
       "      <td>Rocky Mountain House</td>\n",
       "      <td>52.37</td>\n",
       "      <td>-114.92</td>\n",
       "      <td>66.2</td>\n",
       "      <td>16</td>\n",
       "      <td>93</td>\n",
       "      <td>12.75</td>\n",
       "      <td>CA</td>\n",
       "      <td>1604348393</td>\n",
       "    </tr>\n",
       "    <tr>\n",
       "      <th>249</th>\n",
       "      <td>Rupert</td>\n",
       "      <td>42.62</td>\n",
       "      <td>-113.68</td>\n",
       "      <td>66.2</td>\n",
       "      <td>20</td>\n",
       "      <td>1</td>\n",
       "      <td>8.05</td>\n",
       "      <td>US</td>\n",
       "      <td>1604348332</td>\n",
       "    </tr>\n",
       "  </tbody>\n",
       "</table>\n",
       "</div>"
      ],
      "text/plain": [
       "                     City    Lat    Long  Max Temp  Humidity  Cloudiness  \\\n",
       "27           Saint George  37.10 -113.58      68.0        20           1   \n",
       "206  Rocky Mountain House  52.37 -114.92      66.2        16          93   \n",
       "249                Rupert  42.62 -113.68      66.2        20           1   \n",
       "\n",
       "     Wind Speed Country        Date  \n",
       "27         4.70      US  1604348181  \n",
       "206       12.75      CA  1604348393  \n",
       "249        8.05      US  1604348332  "
      ]
     },
     "execution_count": 65,
     "metadata": {},
     "output_type": "execute_result"
    }
   ],
   "source": [
    "# Finding perfect fall weather\n",
    "bestTemp = weather.loc[((weather['Max Temp'] >= 60) & (weather['Max Temp'] <= 70))]\n",
    "lowHum = bestTemp.loc[bestTemp['Humidity'] <=20]\n",
    "lowHum"
   ]
  },
  {
   "cell_type": "markdown",
   "metadata": {},
   "source": [
    "### Hotel Map\n",
    "* Store into variable named `hotel_df`.\n",
    "* Add a \"Hotel Name\" column to the DataFrame.\n",
    "* Set parameters to search for hotels with 5000 meters.\n",
    "* Hit the Google Places API for each city's coordinates.\n",
    "* Store the first Hotel result into the DataFrame.\n",
    "* Plot markers on top of the heatmap."
   ]
  },
  {
   "cell_type": "code",
   "execution_count": 66,
   "metadata": {},
   "outputs": [
    {
     "data": {
      "text/html": [
       "<div>\n",
       "<style scoped>\n",
       "    .dataframe tbody tr th:only-of-type {\n",
       "        vertical-align: middle;\n",
       "    }\n",
       "\n",
       "    .dataframe tbody tr th {\n",
       "        vertical-align: top;\n",
       "    }\n",
       "\n",
       "    .dataframe thead th {\n",
       "        text-align: right;\n",
       "    }\n",
       "</style>\n",
       "<table border=\"1\" class=\"dataframe\">\n",
       "  <thead>\n",
       "    <tr style=\"text-align: right;\">\n",
       "      <th></th>\n",
       "      <th>Hotel Name</th>\n",
       "      <th>Lat</th>\n",
       "      <th>Lng</th>\n",
       "      <th>City</th>\n",
       "      <th>Country</th>\n",
       "    </tr>\n",
       "  </thead>\n",
       "  <tbody>\n",
       "    <tr>\n",
       "      <th>27</th>\n",
       "      <td>Tru By Hilton St. George</td>\n",
       "      <td>37.086557</td>\n",
       "      <td>-113.579159</td>\n",
       "      <td>Saint George</td>\n",
       "      <td>US</td>\n",
       "    </tr>\n",
       "    <tr>\n",
       "      <th>206</th>\n",
       "      <td>Best Western Rocky Mountain House Inn &amp; Suites</td>\n",
       "      <td>52.360568</td>\n",
       "      <td>-114.908584</td>\n",
       "      <td>Rocky Mountain House</td>\n",
       "      <td>CA</td>\n",
       "    </tr>\n",
       "    <tr>\n",
       "      <th>249</th>\n",
       "      <td>Henry's at the Drift Inn</td>\n",
       "      <td>42.617360</td>\n",
       "      <td>-113.675214</td>\n",
       "      <td>Rupert</td>\n",
       "      <td>US</td>\n",
       "    </tr>\n",
       "  </tbody>\n",
       "</table>\n",
       "</div>"
      ],
      "text/plain": [
       "                                         Hotel Name        Lat         Lng  \\\n",
       "27                         Tru By Hilton St. George  37.086557 -113.579159   \n",
       "206  Best Western Rocky Mountain House Inn & Suites  52.360568 -114.908584   \n",
       "249                        Henry's at the Drift Inn  42.617360 -113.675214   \n",
       "\n",
       "                     City Country  \n",
       "27           Saint George      US  \n",
       "206  Rocky Mountain House      CA  \n",
       "249                Rupert      US  "
      ]
     },
     "execution_count": 66,
     "metadata": {},
     "output_type": "execute_result"
    }
   ],
   "source": [
    "base_url = \"https://maps.googleapis.com/maps/api/place/nearbysearch/json\"\n",
    "params = {\n",
    "    \"keyword\": \"hotel\",\n",
    "    \"radius\": 5000,\n",
    "    \"key\": g_key\n",
    "}\n",
    "# Empty lists for making the DF\n",
    "names = []\n",
    "lats = []\n",
    "longs = []\n",
    "\n",
    "# Get the hotel info\n",
    "for index, row in lowHum.iterrows():\n",
    "    params[\"location\"] = str(row['Lat']) + \",\" + str(row['Long'])\n",
    "    hotelData = requests.get(base_url, params=params).json()\n",
    "    names.append(hotelData['results'][0]['name'])\n",
    "    lats.append(hotelData['results'][0]['geometry']['location']['lat'])\n",
    "    longs.append(hotelData['results'][0]['geometry']['location']['lng'])\n",
    "\n",
    "# Build DF out of the hotel data\n",
    "hotel_df = pd.DataFrame({\n",
    "    'Hotel Name': names,\n",
    "    'Lat': lats,\n",
    "    'Lng': longs,\n",
    "    'City': lowHum['City'],\n",
    "    'Country': lowHum['Country']\n",
    "})\n",
    "hotel_df"
   ]
  },
  {
   "cell_type": "code",
   "execution_count": null,
   "metadata": {},
   "outputs": [],
   "source": []
  },
  {
   "cell_type": "code",
   "execution_count": 67,
   "metadata": {},
   "outputs": [],
   "source": [
    "# NOTE: Do not change any of the code in this cell\n",
    "\n",
    "# Using the template add the hotel marks to the heatmap\n",
    "info_box_template = \"\"\"\n",
    "<dl>\n",
    "<dt>Name</dt><dd>{Hotel Name}</dd>\n",
    "<dt>City</dt><dd>{City}</dd>\n",
    "<dt>Country</dt><dd>{Country}</dd>\n",
    "</dl>\n",
    "\"\"\"\n",
    "# Store the DataFrame Row\n",
    "# NOTE: be sure to update with your DataFrame name\n",
    "hotel_info = [info_box_template.format(**row) for index, row in hotel_df.iterrows()]\n",
    "locations = hotel_df[[\"Lat\", \"Lng\"]]"
   ]
  },
  {
   "cell_type": "code",
   "execution_count": 68,
   "metadata": {},
   "outputs": [
    {
     "data": {
      "application/vnd.jupyter.widget-view+json": {
       "model_id": "a20b38d3a3214dc8b1b3bc39bb7b4890",
       "version_major": 2,
       "version_minor": 0
      },
      "text/plain": [
       "Figure(layout=FigureLayout(border='1px solid black', height='550px', margin='0 auto 0 auto', padding='1px', wi…"
      ]
     },
     "metadata": {},
     "output_type": "display_data"
    }
   ],
   "source": [
    "# Add marker layer ontop of heat map\n",
    "markers = gmaps.marker_layer(locations,info_box_content=hotel_info)\n",
    "fig.add_layer(markers)\n",
    "\n",
    "# Display figure\n",
    "fig"
   ]
  },
  {
   "cell_type": "code",
   "execution_count": null,
   "metadata": {},
   "outputs": [],
   "source": []
  }
 ],
 "metadata": {
  "kernelspec": {
   "display_name": "Python 3",
   "language": "python",
   "name": "python3"
  },
  "language_info": {
   "codemirror_mode": {
    "name": "ipython",
    "version": 3
   },
   "file_extension": ".py",
   "mimetype": "text/x-python",
   "name": "python",
   "nbconvert_exporter": "python",
   "pygments_lexer": "ipython3",
   "version": "3.6.12"
  },
  "latex_envs": {
   "LaTeX_envs_menu_present": true,
   "autoclose": false,
   "autocomplete": true,
   "bibliofile": "biblio.bib",
   "cite_by": "apalike",
   "current_citInitial": 1,
   "eqLabelWithNumbers": true,
   "eqNumInitial": 1,
   "hotkeys": {
    "equation": "Ctrl-E",
    "itemize": "Ctrl-I"
   },
   "labels_anchors": false,
   "latex_user_defs": false,
   "report_style_numbering": false,
   "user_envs_cfg": false
  }
 },
 "nbformat": 4,
 "nbformat_minor": 4
}
